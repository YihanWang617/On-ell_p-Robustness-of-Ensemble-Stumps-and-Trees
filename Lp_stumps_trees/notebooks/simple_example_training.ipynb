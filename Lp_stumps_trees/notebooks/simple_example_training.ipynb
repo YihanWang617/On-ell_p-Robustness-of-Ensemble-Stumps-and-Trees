{
  "cells": [
    {
      "cell_type": "markdown",
      "metadata": {
        "pycharm": {}
      },
      "source": "# A simple example how to train provably robust boosted trees."
    },
    {
      "cell_type": "code",
      "execution_count": 1,
      "metadata": {
        "collapsed": true,
        "pycharm": {
          "is_executing": false
        }
      },
      "outputs": [],
      "source": "%load_ext autoreload\n%autoreload 2\nimport os\nos.chdir(\"/home/maksym/boost_github\")\nimport numpy as np\nimport data\nfrom tree_ensemble import TreeEnsemble\nnp.random.seed(1)\n"
    },
    {
      "cell_type": "code",
      "execution_count": 2,
      "outputs": [
        {
          "name": "stdout",
          "text": [
            "Iteration: 1, test error: 2.92%, upper bound on robust test error: 10.95%\n",
            "Iteration: 5, test error: 2.92%, upper bound on robust test error: 10.95%\n",
            "Iteration: 10, test error: 2.19%, upper bound on robust test error: 10.22%\n",
            "Iteration: 15, test error: 2.19%, upper bound on robust test error: 10.22%\n",
            "Iteration: 20, test error: 2.19%, upper bound on robust test error: 10.22%\n",
            "Iteration: 25, test error: 2.19%, upper bound on robust test error: 10.22%\n",
            "Iteration: 30, test error: 1.46%, upper bound on robust test error: 8.03%\n",
            "Iteration: 35, test error: 1.46%, upper bound on robust test error: 8.03%\n",
            "Iteration: 40, test error: 1.46%, upper bound on robust test error: 7.30%\n",
            "Iteration: 45, test error: 1.46%, upper bound on robust test error: 7.30%\n",
            "Iteration: 50, test error: 0.73%, upper bound on robust test error: 6.57%\n"
          ],
          "output_type": "stream"
        }
      ],
      "source": "n_trees \u003d 50  # total number of trees in the ensemble\nmodel \u003d \u0027robust_bound\u0027  # robust tree ensemble\nX_train, y_train, X_test, y_test, eps \u003d data.all_datasets_dict[\u0027breast_cancer\u0027]()\nX_train, X_test \u003d data.convert_to_float32(X_train), data.convert_to_float32(X_test)\n\n# initialize a tree ensemble with some hyperparameters\nensemble \u003d TreeEnsemble(weak_learner\u003d\u0027tree\u0027, n_trials_coord\u003dX_train.shape[1], \n                        lr\u003d0.01, min_samples_split\u003d10, min_samples_leaf\u003d5, max_depth\u003d4, \n                        max_weight\u003d1.0, idx_clsf\u003d0)\n# initialize gammas, per-example weights which are recalculated each iteration\ngamma \u003d np.ones(X_train.shape[0])\nfor i in range(1, n_trees + 1):\n    # fit a new tree in order to minimize the robust loss of the whole ensemble\n    weak_learner \u003d ensemble.fit_tree(X_train, y_train, gamma, model, eps, depth\u003d1)\n    margin_prev \u003d ensemble.certify_treewise(X_train, y_train, eps)  # needed for pruning\n    ensemble.add_weak_learner(weak_learner)\n    ensemble.prune_last_tree(X_train, y_train, margin_prev, eps, model)\n    # calculate per-example weights for the next iteration\n    gamma \u003d np.exp(-ensemble.certify_treewise(X_train, y_train, eps))\n    \n    # track generalization and robustness\n    yf_test \u003d y_test * ensemble.predict(X_test)\n    min_yf_test \u003d ensemble.certify_treewise(X_test, y_test, eps)\n    if i \u003d\u003d 1 or i % 5 \u003d\u003d 0:\n        print(\u0027Iteration: {}, test error: {:.2%}, upper bound on robust test error: {:.2%}\u0027.format(\n            i, np.mean(yf_test \u003c 0.0), np.mean(min_yf_test \u003c 0.0)))\n    ",
      "metadata": {
        "pycharm": {
          "metadata": false,
          "name": "#%%\n",
          "is_executing": false
        }
      }
    },
    {
      "cell_type": "code",
      "execution_count": null,
      "outputs": [],
      "source": "",
      "metadata": {
        "pycharm": {
          "metadata": false,
          "name": "#%% "
        }
      }
    }
  ],
  "metadata": {
    "anaconda-cloud": {},
    "kernelspec": {
      "name": "python3",
      "language": "python",
      "display_name": "Python 3"
    },
    "language_info": {
      "codemirror_mode": {
        "name": "ipython",
        "version": 3
      },
      "file_extension": ".py",
      "mimetype": "text/x-python",
      "name": "python",
      "nbconvert_exporter": "python",
      "pygments_lexer": "ipython3",
      "version": "3.5.4"
    }
  },
  "nbformat": 4,
  "nbformat_minor": 1
}